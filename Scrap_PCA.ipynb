{
 "cells": [
  {
   "cell_type": "markdown",
   "metadata": {},
   "source": [
    "## PCA Scrapping"
   ]
  },
  {
   "cell_type": "code",
   "execution_count": 1,
   "metadata": {},
   "outputs": [],
   "source": [
    "import numpy as np"
   ]
  },
  {
   "cell_type": "code",
   "execution_count": 2,
   "metadata": {},
   "outputs": [],
   "source": [
    "# Data without normalization\n",
    "# #-----------------------------------------------\n",
    "a = [2.5, 0.5, 2.2, 1.9, 3.1, 2.3, 2, 1, 1.5, 1.1]\n",
    "b = [2.4, 0.7, 2.9, 2.2, 3, 2.7, 1.6, 1.1, 1.6, 0.9]\n",
    "c = [2.4, 0.9, 2.1, 2, 3, 2.7, 1.6, 1.1, 1.6, 1.9]\n",
    "# #-----------------------------------------------\n",
    "\n",
    "X = np.array([a,b])"
   ]
  },
  {
   "cell_type": "code",
   "execution_count": 3,
   "metadata": {
    "scrolled": true
   },
   "outputs": [
    {
     "data": {
      "text/plain": [
       "array([[0.61655556, 0.61544444],\n",
       "       [0.61544444, 0.71655556]])"
      ]
     },
     "execution_count": 3,
     "metadata": {},
     "output_type": "execute_result"
    }
   ],
   "source": [
    "'''\n",
    "param data = array, 2D-array\n",
    "default ddof = 1\n",
    "return covariance matrix of array\n",
    "'''\n",
    "data = X.T\n",
    "size = data.shape[0]- 1 #ddof\n",
    "mean = np.mean(data, axis=0)\n",
    "cov_mat = (data-mean).T.dot(data-mean) / size\n",
    "cov_mat"
   ]
  },
  {
   "cell_type": "code",
   "execution_count": 4,
   "metadata": {},
   "outputs": [
    {
     "data": {
      "text/plain": [
       "(array([0.0490834 , 1.28402771]), array([[-0.73517866, -0.6778734 ],\n",
       "        [ 0.6778734 , -0.73517866]]))"
      ]
     },
     "execution_count": 4,
     "metadata": {},
     "output_type": "execute_result"
    }
   ],
   "source": [
    "'''Eigen Values and Eigen Vectors'''\n",
    "eig_vals, eig_vecs = np.linalg.eig(cov_mat)\n",
    "eig_vals, eig_vecs"
   ]
  },
  {
   "cell_type": "code",
   "execution_count": 5,
   "metadata": {},
   "outputs": [
    {
     "data": {
      "text/plain": [
       "array([[-0.6778734 , -0.73517866],\n",
       "       [-0.73517866,  0.6778734 ]])"
      ]
     },
     "execution_count": 5,
     "metadata": {},
     "output_type": "execute_result"
    }
   ],
   "source": [
    "'''forming matrix and eigen values in decreasing order'''\n",
    "eig_vals = eig_vals.reshape([1,len(eig_vals)])\n",
    "mat = np.concatenate((eig_vals,eig_vecs), axis=0).T\n",
    "mat = mat[mat[:,0].argsort()][::-1]\n",
    "component = mat[:,1:]\n",
    "component"
   ]
  },
  {
   "cell_type": "code",
   "execution_count": 6,
   "metadata": {},
   "outputs": [
    {
     "data": {
      "text/plain": [
       "array([[-3.45911227, -0.21105048],\n",
       "       [-0.85356176,  0.10692205],\n",
       "       [-3.62333958,  0.34843981],\n",
       "       [-2.9053525 ,  0.09448203],\n",
       "       [-4.3069435 , -0.24543364],\n",
       "       [-3.54409119,  0.13934727],\n",
       "       [-2.53203265, -0.38575987],\n",
       "       [-1.48656992,  0.01048208],\n",
       "       [-2.19309595, -0.01817055],\n",
       "       [-1.40732153, -0.19861046]])"
      ]
     },
     "execution_count": 6,
     "metadata": {},
     "output_type": "execute_result"
    }
   ],
   "source": [
    "#transform the data\n",
    "np.dot(data,component)"
   ]
  },
  {
   "cell_type": "code",
   "execution_count": 7,
   "metadata": {},
   "outputs": [
    {
     "data": {
      "text/plain": [
       "[0.963181314348646, 0.03681868565135408]"
      ]
     },
     "execution_count": 7,
     "metadata": {},
     "output_type": "execute_result"
    }
   ],
   "source": [
    "'''Variance ratio'''\n",
    "var_ratio = []\n",
    "for i in eig_vals[0]:\n",
    "    var_ratio.append(i/sum(eig_vals[0]))\n",
    "sorted(var_ratio, reverse=True)"
   ]
  }
 ],
 "metadata": {
  "kernelspec": {
   "display_name": "Python 3",
   "language": "python",
   "name": "python3"
  },
  "language_info": {
   "codemirror_mode": {
    "name": "ipython",
    "version": 3
   },
   "file_extension": ".py",
   "mimetype": "text/x-python",
   "name": "python",
   "nbconvert_exporter": "python",
   "pygments_lexer": "ipython3",
   "version": "3.7.6"
  }
 },
 "nbformat": 4,
 "nbformat_minor": 4
}
